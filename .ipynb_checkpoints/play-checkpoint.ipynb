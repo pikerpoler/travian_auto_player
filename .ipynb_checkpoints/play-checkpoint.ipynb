{
 "cells": [
  {
   "cell_type": "code",
   "execution_count": 1,
   "metadata": {},
   "outputs": [],
   "source": [
    "from actions import *\n",
    "from player import *\n",
    "import time"
   ]
  },
  {
   "cell_type": "code",
   "execution_count": 2,
   "metadata": {},
   "outputs": [],
   "source": [
    "PATH_TO_CHROMEDRIVER = NISSIM_PATH_TO_CHROMEDRIVER\n",
    "USERNAME =  \"traviantron@yandex.com\"\n",
    "PASSWORD = \"4science\"\n",
    "URL = 'https://tx3.travian.com/'"
   ]
  },
  {
   "cell_type": "code",
   "execution_count": null,
   "metadata": {},
   "outputs": [
    {
     "name": "stdout",
     "output_type": "stream",
     "text": [
      "delay =  0.20350877192982456\n",
      "done waiting\n",
      "delay =  0.2\n",
      "done waiting\n",
      "Message: no such element: Unable to locate element: {\"method\":\"xpath\",\"selector\":\"//*[@id=\"contract\"]/div[1]/div[1]/span\"}\n",
      "  (Session info: chrome=84.0.4147.135)\n",
      "\n",
      "delay =  0.18596491228070175\n",
      "done waiting\n",
      "delay =  0.1824561403508772\n",
      "done waiting\n",
      "delay =  0.17894736842105263\n",
      "done waiting\n",
      "delay =  0.17543859649122806\n",
      "done waiting\n",
      "delay =  0.17192982456140352\n",
      "done waiting\n",
      "delay =  0.16842105263157894\n",
      "done waiting\n",
      "delay =  0.1649122807017544\n",
      "done waiting\n",
      "delay =  0.16140350877192983\n",
      "done waiting\n",
      "Message: no such element: Unable to locate element: {\"method\":\"xpath\",\"selector\":\"//*[@id=\"contract\"]/div[1]/div[1]/span\"}\n",
      "  (Session info: chrome=84.0.4147.135)\n",
      "\n"
     ]
    }
   ],
   "source": [
    "\n",
    "while True:\n",
    "    try:\n",
    "        driver = login(PATH_TO_CHROMEDRIVER, USERNAME, PASSWORD, URL)\n",
    "        driver.maximize_window()\n",
    "\n",
    "        vil = Village(driver)\n",
    "        \n",
    "        while True:\n",
    "            sleep(5)\n",
    "            vil.refresh('r')\n",
    "            change_page(driver, \"Resources\")\n",
    "            time_until_builder = get_done_in(driver)  \n",
    "            resource_to_upgrade = vil.best_resource_to_upgrade()\n",
    "            elem, lev = find_smallest_field(driver,resource_to_upgrade)\n",
    "            elem.click()  #entering buying page for the field\n",
    "            \n",
    "            cost = cost_to_upgrade(driver)\n",
    "            time_until_resources = vil.time_until_enough_resources(vil.storage, cost, vil.production)\n",
    "            print(\"time_until_resources = \", time_until_resources)\n",
    "            delay = max(time_until_resources.max() , time_until_builder)\n",
    "            \n",
    "            # more actions and calculations are done here\n",
    "            change_page(driver, \"Resources\")\n",
    "            print(\"delay = \", delay)\n",
    "            if delay > 0:\n",
    "                sleep(delay)\n",
    "            \n",
    "            print(\"done waiting\")\n",
    "            change_page(driver, \"Resources\")\n",
    "            upgrade_field(driver, resource_to_upgrade)\n",
    "\n",
    "    except Exception as e:\n",
    "        print(e)\n",
    "        error = e\n",
    "        # raise e\n",
    "        try:\n",
    "            driver.find_element_by_xpath(\"//*[@id=\\\"contextualHelp\\\"]/div/div[2]/nav/button\").click() #click on the \"OK\" button\n",
    "        except:\n",
    "            pass\n",
    "        time.sleep(5)\n",
    "        driver.close()"
   ]
  },
  {
   "cell_type": "code",
   "execution_count": null,
   "metadata": {},
   "outputs": [],
   "source": []
  }
 ],
 "metadata": {
  "kernelspec": {
   "display_name": "Python 3",
   "language": "python",
   "name": "python3"
  },
  "language_info": {
   "codemirror_mode": {
    "name": "ipython",
    "version": 3
   },
   "file_extension": ".py",
   "mimetype": "text/x-python",
   "name": "python",
   "nbconvert_exporter": "python",
   "pygments_lexer": "ipython3",
   "version": "3.7.4"
  }
 },
 "nbformat": 4,
 "nbformat_minor": 2
}
