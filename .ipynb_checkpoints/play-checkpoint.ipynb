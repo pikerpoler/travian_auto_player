{
 "cells": [
  {
   "cell_type": "code",
   "execution_count": 1,
   "metadata": {},
   "outputs": [],
   "source": [
    "from actions import *\n",
    "from player import *\n",
    "import time"
   ]
  },
  {
   "cell_type": "code",
   "execution_count": 2,
   "metadata": {},
   "outputs": [],
   "source": [
    "PATH_TO_CHROMEDRIVER = NISSIM_PATH_TO_CHROMEDRIVER\n",
    "USERNAME =  \"traviantron@yandex.com\"\n",
    "PASSWORD = \"4science\"\n",
    "URL = 'https://tx3.travian.com/'"
   ]
  },
  {
   "cell_type": "code",
   "execution_count": null,
   "metadata": {},
   "outputs": [],
   "source": [
    "while True:\n",
    "    try:\n",
    "        driver = login(PATH_TO_CHROMEDRIVER, USERNAME, PASSWORD, URL)\n",
    "        driver.maximize_window()\n",
    "\n",
    "        vil = Village(driver)\n",
    "\n",
    "        while True:\n",
    "            time.sleep(5)\n",
    "            vil.refresh('r')\n",
    "            time_until_builder = get_done_in(driver)  + time.time()\n",
    "            resource_to_upgrade = vil.best_resource_to_upgrade()\n",
    "            \n",
    "            elem, lev = find_smallest_field(driver,resource_to_upgrade)\n",
    "            elem.click()  #entering buying page for the field\n",
    "            \n",
    "            cost = cost_to_upgrade()\n",
    "            time_until_resources = vil.time_untill_ready(vil.storage, cost, vil.production) + time.time()\n",
    "            wait_until = max(time_until_resources , time_until_builder)\n",
    "            \n",
    "            # more actions and calculations are done here\n",
    "            delay = time.time() - wait_until\n",
    "            if delay > 0:\n",
    "                sleep(delay)\n",
    "            \n",
    "            upgrade_field(driver, resource_to_upgrade)\n",
    "\n",
    "    except Exception as e:\n",
    "        print(e)\n",
    "        error = e\n",
    "        raise e\n",
    "        time.sleep(5)\n",
    "        driver.close()\n",
    "        time.sleep(60*30) #sleep half an hour and login again."
   ]
  },
  {
   "cell_type": "code",
   "execution_count": null,
   "metadata": {},
   "outputs": [],
   "source": []
  }
 ],
 "metadata": {
  "kernelspec": {
   "display_name": "Python 3",
   "language": "python",
   "name": "python3"
  },
  "language_info": {
   "codemirror_mode": {
    "name": "ipython",
    "version": 3
   },
   "file_extension": ".py",
   "mimetype": "text/x-python",
   "name": "python",
   "nbconvert_exporter": "python",
   "pygments_lexer": "ipython3",
   "version": "3.7.4"
  }
 },
 "nbformat": 4,
 "nbformat_minor": 2
}
