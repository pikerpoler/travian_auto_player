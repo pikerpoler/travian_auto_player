{
 "cells": [
  {
   "cell_type": "code",
   "execution_count": 24,
   "metadata": {},
   "outputs": [],
   "source": [
    "from selenium import webdriver\n",
    "import numpy as np"
   ]
  },
  {
   "cell_type": "code",
   "execution_count": 10,
   "metadata": {},
   "outputs": [],
   "source": [
    "PATH_TO_CHROMEDRIVER = '/usr/local/lib/python3.6/dist-packages/selenium/webdriver/chrome/chromedriver'\n",
    "USERNAME = 'shwapoof@protonmail.com'\n",
    "PASSWORD = 'traviangenericpassword'"
   ]
  },
  {
   "cell_type": "code",
   "execution_count": 3,
   "metadata": {},
   "outputs": [],
   "source": [
    "driver = webdriver.Chrome(PATH_TO_CHROMEDRIVER)\n"
   ]
  },
  {
   "cell_type": "code",
   "execution_count": 4,
   "metadata": {},
   "outputs": [],
   "source": [
    "driver.get('https://ts2.travian.co.il/')"
   ]
  },
  {
   "cell_type": "code",
   "execution_count": 7,
   "metadata": {},
   "outputs": [],
   "source": [
    "driver.find_element_by_xpath('//*[@id=\"content\"]/div[1]/div[1]/form/table/tbody/tr[1]/td[2]/input').send_keys(USERNAME)\n",
    "driver.find_element_by_xpath('//*[@id=\"content\"]/div[1]/div[1]/form/table/tbody/tr[2]/td[2]/input').send_keys(PASSWORD)\n",
    "driver.find_element_by_xpath('//*[@id=\"content\"]/div[1]/div[1]/form/table/tbody/tr[3]/td[2]/label/input').click()\n",
    "driver.find_element_by_xpath('//*[@id=\"s1\"]').click()"
   ]
  },
  {
   "cell_type": "code",
   "execution_count": 11,
   "metadata": {},
   "outputs": [],
   "source": [
    "driver.find_element_by_xpath('//*[@id=\"resourceFieldContainer\"]/div[8]/div').click()"
   ]
  },
  {
   "cell_type": "code",
   "execution_count": 20,
   "metadata": {},
   "outputs": [],
   "source": [
    "crop_fields = ('//*[@id=\"resourceFieldContainer\"]/div[2]/div', \n",
    "                '//*[@id=\"resourceFieldContainer\"]/div[15]/div', \n",
    "                '//*[@id=\"resourceFieldContainer\"]/div[8]/div', \n",
    "                '//*[@id=\"resourceFieldContainer\"]/div[9]/div', \n",
    "                '//*[@id=\"resourceFieldContainer\"]/div[13]/div', \n",
    "                '//*[@id=\"resourceFieldContainer\"]/div[12]/div')\n",
    "\n",
    "lumber_fields = ('//*[@id=\"resourceFieldContainer\"]/div[1]/div',\n",
    "                '//*[@id=\"resourceFieldContainer\"]/div[3]/div',\n",
    "                '//*[@id=\"resourceFieldContainer\"]/div[17]/div',\n",
    "                '//*[@id=\"resourceFieldContainer\"]/div[14]/div')\n",
    "\n",
    "clay_fields = ('//*[@id=\"resourceFieldContainer\"]/div[5]/div',\n",
    "                '//*[@id=\"resourceFieldContainer\"]/div[6]/div',\n",
    "                '//*[@id=\"resourceFieldContainer\"]/div[18]/div',\n",
    "                '//*[@id=\"resourceFieldContainer\"]/div[16]/div')\n",
    "\n",
    "iron_fields = ('//*[@id=\"resourceFieldContainer\"]/div[4]/div',\n",
    "                '//*[@id=\"resourceFieldContainer\"]/div[7]/div',\n",
    "                '//*[@id=\"resourceFieldContainer\"]/div[11]/div',\n",
    "                '//*[@id=\"resourceFieldContainer\"]/div[10]/div')\n",
    "\n",
    "fields_xpaths = {'crop': crop_fields, 'lumber': lumber_fields, \n",
    "                 'clay': clay_fields, 'iron': iron_fields}"
   ]
  },
  {
   "cell_type": "code",
   "execution_count": null,
   "metadata": {},
   "outputs": [],
   "source": [
    "production_xpaths = {'lumber': '//*[@id=\"production\"]/tbody/tr[1]/td[3]', \n",
    "                     'clay': '//*[@id=\"production\"]/tbody/tr[2]/td[3]', \n",
    "                     'iron': '//*[@id=\"production\"]/tbody/tr[3]/td[3]', \n",
    "                     'crop': '//*[@id=\"production\"]/tbody/tr[4]/td[3]'} ##only in resource page!"
   ]
  },
  {
   "cell_type": "code",
   "execution_count": 22,
   "metadata": {},
   "outputs": [],
   "source": [
    "resources_amounts_xpaths = {'lumber': '//*[@id=\"l1\"]', \n",
    "                            'clay': '//*[@id=\"l2\"]', \n",
    "                            'iron': '//*[@id=\"l3\"]', \n",
    "                            'crop': '//*[@id=\"l4\"]'}"
   ]
  },
  {
   "cell_type": "code",
   "execution_count": 23,
   "metadata": {},
   "outputs": [],
   "source": [
    "capacities_xpaths = {'warehouse': '//*[@id=\"stockBar\"]/div[1]/div/div', \n",
    "                     'granery': '//*[@id=\"stockBar\"]/div[2]/div/div'}"
   ]
  },
  {
   "cell_type": "code",
   "execution_count": null,
   "metadata": {},
   "outputs": [],
   "source": []
  },
  {
   "cell_type": "code",
   "execution_count": 18,
   "metadata": {},
   "outputs": [
    {
     "data": {
      "text/plain": [
       "['\\u202d58\\u202c']"
      ]
     },
     "execution_count": 18,
     "metadata": {},
     "output_type": "execute_result"
    }
   ],
   "source": [
    "driver.find_element_by_xpath('//*[@id=\"production\"]/tbody/tr[1]/td[3]').text."
   ]
  },
  {
   "cell_type": "code",
   "execution_count": 52,
   "metadata": {},
   "outputs": [],
   "source": [
    "class Resources:\n",
    "    def __init__(self, wood, clay, iron, crop):\n",
    "        self.vector = np.array([wood, clay, iron, crop])\n",
    "    \n",
    "    def __add__(self, other):\n",
    "        \n",
    "        if type(other) == Resources:\n",
    "            new_resources = self.vector + other.vector\n",
    "        \n",
    "        else:\n",
    "            new_resources = self.vector + np.array(other)\n",
    "            \n",
    "        return Resources(*new_resources)\n",
    "    \n",
    "    def __sub__(self, other):\n",
    "        \n",
    "        if type(other) == Resources:\n",
    "            new_resources = self.vector - other.vector\n",
    "        \n",
    "        else:\n",
    "            new_resources = self.vector - np.array(other)\n",
    "            \n",
    "        return Resources(*new_resources)\n",
    "        \n",
    "    def __str__(self):\n",
    "        return '|{0}|{1}|{2}|{3}|'.format(*self.vector)\n",
    "    \n",
    "    def __repr__(self):\n",
    "        return self.__str__()"
   ]
  },
  {
   "cell_type": "code",
   "execution_count": 53,
   "metadata": {},
   "outputs": [],
   "source": [
    "res = Resources(1,2,3,4)"
   ]
  },
  {
   "cell_type": "code",
   "execution_count": 30,
   "metadata": {},
   "outputs": [
    {
     "data": {
      "text/plain": [
       "array([1, 2, 3, 4])"
      ]
     },
     "execution_count": 30,
     "metadata": {},
     "output_type": "execute_result"
    }
   ],
   "source": [
    "Price(*a).resource_vector"
   ]
  },
  {
   "cell_type": "code",
   "execution_count": 37,
   "metadata": {},
   "outputs": [
    {
     "data": {
      "text/plain": [
       "array([3, 4, 5, 6])"
      ]
     },
     "execution_count": 37,
     "metadata": {},
     "output_type": "execute_result"
    }
   ],
   "source": [
    "a"
   ]
  },
  {
   "cell_type": "code",
   "execution_count": null,
   "metadata": {},
   "outputs": [],
   "source": []
  }
 ],
 "metadata": {
  "kernelspec": {
   "display_name": "Python 3.6",
   "language": "python",
   "name": "python3.6"
  },
  "language_info": {
   "codemirror_mode": {
    "name": "ipython",
    "version": 3
   },
   "file_extension": ".py",
   "mimetype": "text/x-python",
   "name": "python",
   "nbconvert_exporter": "python",
   "pygments_lexer": "ipython3",
   "version": "3.6.8"
  }
 },
 "nbformat": 4,
 "nbformat_minor": 2
}
